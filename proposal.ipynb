{
 "cells": [
  {
   "cell_type": "markdown",
   "id": "61d7a099-e746-489f-82d1-84720ffeb896",
   "metadata": {},
   "source": [
    "# Title"
   ]
  },
  {
   "cell_type": "markdown",
   "id": "2353459e-6c62-420a-9da6-5c66e3339bba",
   "metadata": {},
   "source": [
    "## Introduction"
   ]
  },
  {
   "cell_type": "markdown",
   "id": "e02c2b80-3c1b-43c0-b392-b3e172172725",
   "metadata": {},
   "source": [
    "Begin by providing some relevant background information on the topic so that someone unfamiliar with it will be prepared to understand the rest of your proposal.\n",
    "\n",
    "Clearly state the question you will try to answer with your project. Your question should involve one or more random variables of interest, spread across two or more categories that are interesting to compare. For example, you could consider the annual maxima river flow at two different locations along a river, or perhaps gender diversity at different universities. Of the response variable, identify one location parameter (mean, median, quantile, etc.) and one scale parameter (standard deviation, inter-quartile range, etc.) that would be useful in answering your question. Justify your choices.\n",
    "\n",
    "UPDATE (Mar 1, 2022): If it doesn’t make sense to infer a scale parameter, you can choose another parameter, or choose a second variable altogether. Ultimately, we’re looking for a comprehensive inference analysis on one parameter spread across 2+ groups (with at least one hypothesis test), plus a bit more (such as an investigation on the variance, a quantile, or a different variable). In total, you should use both bootstrapping and asymptotics somewhere in your report at least once each. Also, your hypothesis test(s) need not be significant: it is perfectly fine to write a report claiming no significant findings (i.e. your p-value is large).\n",
    "\n",
    "Identify and describe the dataset that will be used to answer the question. Remember, this dataset is allowed to contain more variables than you need – feel free to drop them!\n",
    "\n",
    "Also, be sure to frame your question/objectives in terms of what is already known in the literature. Be sure to include at least two scientific publications that can help frame your study (you will need to include these in the References section). We have no specific citation style requirements, but be consistent."
   ]
  },
  {
   "cell_type": "markdown",
   "id": "ddaeb408-596c-4b28-8904-18e488084a96",
   "metadata": {},
   "source": [
    "- Background information: Why is it important? Cite some relevant literature\n",
    "\n",
    "\n",
    "- What is your (inferential) research question?\n",
    "\n",
    "\n",
    "- What is your population of interest?\n",
    "\n",
    "\n",
    "- How do you collect your data?\n",
    "\n",
    "\n",
    "- What is your point estimate? (e.g., mean difference between male and female income, proportions of Democrats voters, etc.)\n",
    "\n",
    "\n",
    "- State your hypothesis if applicable\n"
   ]
  },
  {
   "cell_type": "markdown",
   "id": "d86b1fb3-6fa2-4ce1-9e9b-39454bff7b7e",
   "metadata": {},
   "source": [
    "With only about 8.3 percent of the population not being insured at any point in the past year, health insurance has a widespread impact on the American population (Keisler-Starkey & Bunch, 2022). With factors influencing insurance premius such as age, state and federal laws, and many more, there are many considerations insurance companies make to determine their prices. Many companies will also take insurance premiums out of employees pay to cover these costs, so it is important for employees to know the major contributors to their insurance costs, and the actions that can take to reduce them (Fontinelle, 2022). For this reason, we decided to explore if people who smoke are charged more for health insurance than those who do not in the United States, as this is one of few variables impacting insurance costs that people can actually control. Our population of interest is people in the United States who have health insurance policies. To answer our inferential question, we will calculate the mean difference between yearly insurance charges of smokers versus non smokers as our point estimate, using the null hypothesis that there is no difference in charges and the alternative hypothesis that charges are greater for smokers. Our data has been collected from the US Health Insurance Dataset and contains 1338 rows of data on peoples age, sex, smoking status (yes or no), insurance charges, and others."
   ]
  },
  {
   "cell_type": "markdown",
   "id": "2ba8ff9d-ad12-4620-8bde-d6fba4bd6b3c",
   "metadata": {},
   "source": [
    "## Preliminary Results"
   ]
  },
  {
   "cell_type": "code",
   "execution_count": 4,
   "id": "181df4c3-9988-46e5-b305-4e1559e1eec6",
   "metadata": {},
   "outputs": [
    {
     "name": "stderr",
     "output_type": "stream",
     "text": [
      "── \u001b[1mAttaching packages\u001b[22m ─────────────────────────────────────── tidyverse 1.3.2 ──\n",
      "\u001b[32m✔\u001b[39m \u001b[34mggplot2\u001b[39m 3.3.6      \u001b[32m✔\u001b[39m \u001b[34mpurrr  \u001b[39m 0.3.4 \n",
      "\u001b[32m✔\u001b[39m \u001b[34mtibble \u001b[39m 3.1.8      \u001b[32m✔\u001b[39m \u001b[34mdplyr  \u001b[39m 1.0.10\n",
      "\u001b[32m✔\u001b[39m \u001b[34mtidyr  \u001b[39m 1.2.1      \u001b[32m✔\u001b[39m \u001b[34mstringr\u001b[39m 1.4.1 \n",
      "\u001b[32m✔\u001b[39m \u001b[34mreadr  \u001b[39m 2.1.2      \u001b[32m✔\u001b[39m \u001b[34mforcats\u001b[39m 0.5.2 \n",
      "── \u001b[1mConflicts\u001b[22m ────────────────────────────────────────── tidyverse_conflicts() ──\n",
      "\u001b[31m✖\u001b[39m \u001b[34mdplyr\u001b[39m::\u001b[32mfilter()\u001b[39m masks \u001b[34mstats\u001b[39m::filter()\n",
      "\u001b[31m✖\u001b[39m \u001b[34mdplyr\u001b[39m::\u001b[32mlag()\u001b[39m    masks \u001b[34mstats\u001b[39m::lag()\n"
     ]
    }
   ],
   "source": [
    "# Run this cell before continuing.\n",
    "library(tidyverse)\n",
    "library(datateachr)\n",
    "library(repr)\n",
    "library(digest)\n",
    "library(infer)"
   ]
  },
  {
   "cell_type": "markdown",
   "id": "8142d7e0-0773-484d-a14a-7b8d20aa98c4",
   "metadata": {},
   "source": [
    "In this section, you will:\n",
    "\n",
    "Demonstrate that the dataset can be read from the web into R.\n",
    "Clean and wrangle your data into a tidy format.\n",
    "Plot the relevant raw data, tailoring your plot in a way that addresses your question.\n",
    "Compute estimates of the parameter you identified across your groups. Present this in a table. If relevant, include these estimates in your plot.\n",
    "Be sure to not print output that takes up a lot of screen space.\n"
   ]
  },
  {
   "cell_type": "code",
   "execution_count": 5,
   "id": "d1ea9f86-069b-44fe-830c-fc01bd775d64",
   "metadata": {},
   "outputs": [
    {
     "name": "stderr",
     "output_type": "stream",
     "text": [
      "\u001b[1mRows: \u001b[22m\u001b[34m1338\u001b[39m \u001b[1mColumns: \u001b[22m\u001b[34m7\u001b[39m\n",
      "\u001b[36m──\u001b[39m \u001b[1mColumn specification\u001b[22m \u001b[36m────────────────────────────────────────────────────────\u001b[39m\n",
      "\u001b[1mDelimiter:\u001b[22m \",\"\n",
      "\u001b[31mchr\u001b[39m (3): sex, smoker, region\n",
      "\u001b[32mdbl\u001b[39m (4): age, bmi, children, charges\n",
      "\n",
      "\u001b[36mℹ\u001b[39m Use `spec()` to retrieve the full column specification for this data.\n",
      "\u001b[36mℹ\u001b[39m Specify the column types or set `show_col_types = FALSE` to quiet this message.\n"
     ]
    },
    {
     "data": {
      "text/html": [
       "<table class=\"dataframe\">\n",
       "<caption>A tibble: 6 × 5</caption>\n",
       "<thead>\n",
       "\t<tr><th scope=col>age</th><th scope=col>sex</th><th scope=col>smoker</th><th scope=col>region</th><th scope=col>charges</th></tr>\n",
       "\t<tr><th scope=col>&lt;dbl&gt;</th><th scope=col>&lt;chr&gt;</th><th scope=col>&lt;chr&gt;</th><th scope=col>&lt;chr&gt;</th><th scope=col>&lt;dbl&gt;</th></tr>\n",
       "</thead>\n",
       "<tbody>\n",
       "\t<tr><td>19</td><td>female</td><td>yes</td><td>southwest</td><td>16884.924</td></tr>\n",
       "\t<tr><td>18</td><td>male  </td><td>no </td><td>southeast</td><td> 1725.552</td></tr>\n",
       "\t<tr><td>28</td><td>male  </td><td>no </td><td>southeast</td><td> 4449.462</td></tr>\n",
       "\t<tr><td>33</td><td>male  </td><td>no </td><td>northwest</td><td>21984.471</td></tr>\n",
       "\t<tr><td>32</td><td>male  </td><td>no </td><td>northwest</td><td> 3866.855</td></tr>\n",
       "\t<tr><td>31</td><td>female</td><td>no </td><td>southeast</td><td> 3756.622</td></tr>\n",
       "</tbody>\n",
       "</table>\n"
      ],
      "text/latex": [
       "A tibble: 6 × 5\n",
       "\\begin{tabular}{lllll}\n",
       " age & sex & smoker & region & charges\\\\\n",
       " <dbl> & <chr> & <chr> & <chr> & <dbl>\\\\\n",
       "\\hline\n",
       "\t 19 & female & yes & southwest & 16884.924\\\\\n",
       "\t 18 & male   & no  & southeast &  1725.552\\\\\n",
       "\t 28 & male   & no  & southeast &  4449.462\\\\\n",
       "\t 33 & male   & no  & northwest & 21984.471\\\\\n",
       "\t 32 & male   & no  & northwest &  3866.855\\\\\n",
       "\t 31 & female & no  & southeast &  3756.622\\\\\n",
       "\\end{tabular}\n"
      ],
      "text/markdown": [
       "\n",
       "A tibble: 6 × 5\n",
       "\n",
       "| age &lt;dbl&gt; | sex &lt;chr&gt; | smoker &lt;chr&gt; | region &lt;chr&gt; | charges &lt;dbl&gt; |\n",
       "|---|---|---|---|---|\n",
       "| 19 | female | yes | southwest | 16884.924 |\n",
       "| 18 | male   | no  | southeast |  1725.552 |\n",
       "| 28 | male   | no  | southeast |  4449.462 |\n",
       "| 33 | male   | no  | northwest | 21984.471 |\n",
       "| 32 | male   | no  | northwest |  3866.855 |\n",
       "| 31 | female | no  | southeast |  3756.622 |\n",
       "\n"
      ],
      "text/plain": [
       "  age sex    smoker region    charges  \n",
       "1 19  female yes    southwest 16884.924\n",
       "2 18  male   no     southeast  1725.552\n",
       "3 28  male   no     southeast  4449.462\n",
       "4 33  male   no     northwest 21984.471\n",
       "5 32  male   no     northwest  3866.855\n",
       "6 31  female no     southeast  3756.622"
      ]
     },
     "metadata": {},
     "output_type": "display_data"
    }
   ],
   "source": [
    "# Read in dataset\n",
    "insurance <- read_csv(\"https://raw.githubusercontent.com/Yuji03b/STAT-201-GROUP-1/main/insurance.csv\")\n",
    "\n",
    "# Tidy Data\n",
    "insurance <- insurance |>\n",
    "    select(-bmi, -children)\n",
    "\n",
    "head(insurance)"
   ]
  },
  {
   "cell_type": "code",
   "execution_count": 6,
   "id": "880c180a-3ee9-4faa-998d-f4a8ad17e932",
   "metadata": {},
   "outputs": [
    {
     "data": {
      "text/plain": [
       "    smoker             charges     \n",
       " Length:1338        Min.   : 1122  \n",
       " Class :character   1st Qu.: 4740  \n",
       " Mode  :character   Median : 9382  \n",
       "                    Mean   :13270  \n",
       "                    3rd Qu.:16640  \n",
       "                    Max.   :63770  "
      ]
     },
     "metadata": {},
     "output_type": "display_data"
    }
   ],
   "source": [
    "# Describe columns of interest\n",
    "summary(insurance |> select(smoker, charges))"
   ]
  },
  {
   "cell_type": "code",
   "execution_count": 7,
   "id": "cdab0495-990a-43fe-b839-0f627f8f73b8",
   "metadata": {},
   "outputs": [],
   "source": [
    "# Plot raw data (line graphs colored by smoker variable)\n",
    "# Compute estimates and plot raw data with these estimates included\n",
    "# Mean and standard deviation grouped by smoker\n",
    "# Can maybe use boxplots here"
   ]
  },
  {
   "cell_type": "markdown",
   "id": "99d35612-6b15-4828-9371-772a9ebd3258",
   "metadata": {},
   "source": [
    "## Methods Plan"
   ]
  },
  {
   "cell_type": "markdown",
   "id": "b94f76ea-44e1-4606-b426-3a13ecf40b49",
   "metadata": {},
   "source": [
    "The previous sections will carry over to your final report (you’ll be allowed to improve them based on feedback you get). Begin this Methods section with a brief description of “the good things” about this report – specifically, in what ways is this report trustworthy?\n",
    "\n",
    "Continue by explaining why the plot(s) and estimates that you produced are not enough to give to a stakeholder, and what you should provide in addition to address this gap. Make sure your plans include at least one hypothesis test and one confidence interval. If possible, compare both the bootstrapping and asymptotics methods.\n",
    "\n",
    "Finish this section by reflecting on how your final report might play out:\n",
    "\n",
    "What do you expect to find?\n",
    "What impact could such findings have?\n",
    "What future questions could this lead to?"
   ]
  },
  {
   "cell_type": "markdown",
   "id": "6678034c-52c0-4444-b5b8-f4a3def377fb",
   "metadata": {},
   "source": [
    "- What is your point estimate?\n",
    "- How do you quantify the errors of your estimates?\n",
    "- How do you establish statistical significance of your findings?\n",
    "- What do you expect to find?\n",
    "- What are the potential challenges/drawbacks?\n",
    "- How do you make sure your analysis is reproducible?"
   ]
  },
  {
   "cell_type": "markdown",
   "id": "47ae2f18-5204-4ac8-915b-d6ecd708c40a",
   "metadata": {},
   "source": [
    "## References"
   ]
  },
  {
   "cell_type": "markdown",
   "id": "e205c745-49bf-46c8-ac73-e5625b545377",
   "metadata": {},
   "source": [
    "Datta, A. (2019) <i>US Health Insurance Dataset</i> [Data set]. Kaggle. https://www.kaggle.com/datasets/teertha/ushealthinsurancedataset"
   ]
  },
  {
   "cell_type": "markdown",
   "id": "5cdd66e2-4bd2-4cb2-b56b-4a584c35a5ef",
   "metadata": {},
   "source": [
    "Keisler-Starkey, K., & Bunch, L.N. (2022, September 13). <i>Health Insurance Coverage in the United States: 2021</i>. United States Census Bureau.     \n",
    "    https://www.census.gov/library/publications/2022/demo/p60-278.html#:~:text=Highlights,8.6%20percent%20or%2028.3%20million"
   ]
  },
  {
   "cell_type": "markdown",
   "id": "1455e7d3-d218-4a95-afff-cac3e9450521",
   "metadata": {},
   "source": [
    "Fontinelle, A. (2022, March 2). <i>How Much Does Health Insurance Cost?</i>. Investopedia. \n",
    "    https://www.investopedia.com/how-much-does-health-insurance-cost-4774184"
   ]
  }
 ],
 "metadata": {
  "kernelspec": {
   "display_name": "R",
   "language": "R",
   "name": "ir"
  },
  "language_info": {
   "codemirror_mode": "r",
   "file_extension": ".r",
   "mimetype": "text/x-r-source",
   "name": "R",
   "pygments_lexer": "r",
   "version": "4.1.3"
  }
 },
 "nbformat": 4,
 "nbformat_minor": 5
}
